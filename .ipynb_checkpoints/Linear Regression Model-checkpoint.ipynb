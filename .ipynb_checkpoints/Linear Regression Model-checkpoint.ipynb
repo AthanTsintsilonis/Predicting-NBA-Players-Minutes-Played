{
 "cells": [
  {
   "cell_type": "code",
   "execution_count": 1,
   "id": "54edfadf",
   "metadata": {},
   "outputs": [],
   "source": [
    "import pandas as pd\n",
    "from sklearn.linear_model import Ridge\n",
    "from sklearn.metrics import mean_squared_error\n",
    "\n"
   ]
  },
  {
   "cell_type": "code",
   "execution_count": 2,
   "id": "167882e6",
   "metadata": {},
   "outputs": [],
   "source": [
    "#Gets the data from the scraper and deletes the index column\n",
    "main_df = pd.read_csv('merged.csv')\n",
    "del main_df['Unnamed: 0']\n",
    "del main_df['BPM']\n",
    "main_df = main_df.fillna(0)\n",
    "raptor = pd.read_csv('modern_RAPTOR_by_player.csv')"
   ]
  },
  {
   "cell_type": "code",
   "execution_count": 3,
   "id": "87f2223c",
   "metadata": {},
   "outputs": [],
   "source": [
    "#Cleans Raptor Data\n",
    "raptor_clean = raptor[['player_name','raptor_total', 'season', 'mp']]\n",
    "\n",
    "columns_to_rename = {'player_name': 'Player','raptor_total': 'Raptor'}\n",
    "raptor_clean = raptor_clean.rename(columns = columns_to_rename)\n",
    "raptor_clean['Raptor'] = round(raptor_clean['Raptor'], 1)"
   ]
  },
  {
   "cell_type": "code",
   "execution_count": 4,
   "id": "c6ad0750",
   "metadata": {},
   "outputs": [],
   "source": [
    "#Missing data\n",
    "\n",
    "#2000-2012 (Shuttlerun)\n",
    "#2014, 16, 21, 22, 23 (Bench Press)\n",
    "\n",
    "#Get total mp\n",
    "#Remove duplicate names\n",
    "\n",
    "shuttleRun = range(2000,2013)\n",
    "benchPress = [2014,2016,2021,2022,2023]\n"
   ]
  },
  {
   "cell_type": "code",
   "execution_count": 5,
   "id": "fbb8ca59",
   "metadata": {},
   "outputs": [],
   "source": [
    "#Gets Predidctor variables\n",
    "def get_predictors(year):\n",
    "        columns_to_drop = ['Total Minutes', \n",
    "                         'Seasons Played',\n",
    "                         'Player',\n",
    "                         'POSITION',\n",
    "                         'Year',\n",
    "                         'STANDING_REACH_FT_IN',\n",
    "                         'DRAFT_NUMBER.1',\n",
    "                         'Average Minutes',\n",
    "                         'DRAFT_NUMBER']\n",
    "        \n",
    "\n",
    "        predictors = (main_df.drop(columns = columns_to_drop)).columns\n",
    "        return predictors\n",
    "        '''\n",
    "        if year in shuttleRun:\n",
    "            predictors.drop(columns = year)\n",
    "        elif year in benchPress:\n",
    "        '''    \n",
    "\n",
    "        \n",
    "    \n"
   ]
  },
  {
   "cell_type": "code",
   "execution_count": 6,
   "id": "b00dad12",
   "metadata": {},
   "outputs": [
    {
     "data": {
      "text/plain": [
       "Index(['Year', 'Player', 'POSITION', 'DRAFT_NUMBER', 'HEIGHT_WO_SHOES',\n",
       "       'WEIGHT', 'WINGSPAN', 'STANDING_REACH', 'STANDING_REACH_FT_IN',\n",
       "       'STANDING_VERTICAL_LEAP', 'MAX_VERTICAL_LEAP', 'LANE_AGILITY_TIME',\n",
       "       'THREE_QUARTER_SPRINT', 'Age (Days)', 'DRAFT_NUMBER.1', 'G', 'MP',\n",
       "       'FG%', '2P%', '3P%', 'FT%', 'PTS', 'TRB', 'AST', 'STL', 'BLK', 'WS',\n",
       "       'Total Minutes', 'Seasons Played', 'Average Minutes'],\n",
       "      dtype='object')"
      ]
     },
     "execution_count": 6,
     "metadata": {},
     "output_type": "execute_result"
    }
   ],
   "source": [
    "main_df.columns"
   ]
  },
  {
   "cell_type": "code",
   "execution_count": 7,
   "id": "05f77ba6",
   "metadata": {},
   "outputs": [],
   "source": [
    "import numpy as np\n",
    "import scipy\n",
    "import scipy.stats as stats"
   ]
  },
  {
   "cell_type": "code",
   "execution_count": 8,
   "id": "9afd2606",
   "metadata": {},
   "outputs": [],
   "source": [
    "def choose_year(year, column_to_predict):\n",
    "    \n",
    "    #Training the model \n",
    "    train = main_df[main_df[\"Year\"] < year]\n",
    "    test = main_df[main_df['Year'] == year]\n",
    "    reg = Ridge(alpha = 0.1)\n",
    "    reg.fit(train[predictors], train[column_to_predict])\n",
    "\n",
    "    #Getting predicitons in a dataframe\n",
    "    predictions = reg.predict(test[predictors])\n",
    "    predictions = pd.DataFrame(predictions, columns = ['Predictions'], index = test.index)\n",
    "    combination = pd.concat([test[['Player', column_to_predict]], predictions], axis = 1)\n",
    "    \n",
    "    #Getting Mean Square Error\n",
    "    mse = mean_squared_error(combination[column_to_predict], combination['Predictions'])\n",
    "    string = 'The mean square error for this draft is: ' + str(mse)\n",
    "    \n",
    "    #Displays rank which refers to each players draft position relative to one another in the given dataset as well as the predicted rank and difference\n",
    "    #Not used cause clutter, can maybe delete?\n",
    "    combination = combination.sort_values(column_to_predict, ascending = True)\n",
    "    combination['RK'] = list(range(1, combination.shape[0]+1))\n",
    "    combination = combination.sort_values('Predictions', ascending = True)\n",
    "    combination['Predicted_RK'] = list(range(1, combination.shape[0]+1))\n",
    "    combination['Difference'] = combination['Predicted_RK'] - combination['RK']\n",
    "\n",
    "    \n",
    "    #Gets a clutter free df 'clean' which neatly displays information\n",
    "    important_columns = ['Player',  column_to_predict,  'Predictions']\n",
    "    clean = combination.loc[:,important_columns]\n",
    "    clean['Predictions'] = round(clean['Predictions'], 0)\n",
    "    clean[column_to_predict] = round(clean[column_to_predict], 0)\n",
    "    clean['Predictions'] = clean['Predictions'].astype(int)\n",
    "    clean[column_to_predict] = clean[column_to_predict].astype(int)\n",
    "    clean['Difference'] =clean[column_to_predict] - clean['Predictions'] \n",
    "    \n",
    "    #Gets Average Minutes but not used for Average Minutes Prediciton\n",
    "    '''\n",
    "    clean = clean.merge(main_df[['Player', 'Average Minutes']], how='left', on='Player')\n",
    "    clean['Average Minutes'] = clean['Average Minutes'].astype(int)\n",
    "    '''\n",
    "    #Gets Z Score of Difference\n",
    "    clean['Adjusted Difference'] = scipy.stats.zscore(clean['Difference'], axis=0, ddof=0, nan_policy='propagate')\n",
    "    clean['Score'] = clean['Adjusted Difference']*clean['Average Minutes'] \n",
    "    score = (clean['Adjusted Difference']*clean['Average Minutes'] ).sum()\n",
    "    return clean, mse\n",
    "\n",
    "    "
   ]
  },
  {
   "cell_type": "code",
   "execution_count": 9,
   "id": "3ff41691",
   "metadata": {},
   "outputs": [],
   "source": [
    "def Predict_Average_Minutes_Control(year):\n",
    "    \n",
    "    #Gets Model Results  \n",
    "    column_to_predict = 'Average Minutes'\n",
    "    predictors = get_predictors(year)\n",
    "    full_predictions = choose_year(year, column_to_predict)\n",
    "    predictions_df = full_predictions[0]\n",
    "    mse = full_predictions[1]\n",
    "\n",
    "    #Training the model \n",
    "    control_predictor = ['DRAFT_NUMBER']\n",
    "    train = main_df[main_df[\"Year\"] < year]\n",
    "    test = main_df[main_df['Year'] == year]\n",
    "    reg = Ridge(alpha = 0.1)\n",
    "    reg.fit(train[control_predictor], train[column_to_predict])\n",
    "\n",
    "    #Getting predicitons in a dataframe\n",
    "    predictions = reg.predict(test[control_predictor])\n",
    "    predictions = pd.DataFrame(predictions, columns = ['Control_Predictions'], index = test.index)\n",
    "    combination = pd.concat([test[['Player', column_to_predict]], predictions], axis = 1)\n",
    "    \n",
    "    #Getting MSE for control\n",
    "    mse_control = mean_squared_error(combination[column_to_predict], combination['Control_Predictions'])\n",
    "    \n",
    "    #Cleans Predictions Dataframe\n",
    "    important_columns = ['Player',  column_to_predict,  'Control_Predictions']\n",
    "    clean = combination.loc[:,important_columns]\n",
    "    clean['Control_Predictions'] = round(clean['Control_Predictions'], 0)\n",
    "    clean[column_to_predict] = round(clean[column_to_predict], 0)\n",
    "    clean['Control_Predictions'] = clean['Control_Predictions'].astype(int)\n",
    "    clean[column_to_predict] = clean[column_to_predict].astype(int)\n",
    "    clean['Control_Difference'] = clean[column_to_predict] - clean['Control_Predictions'] \n",
    "    \n",
    "    #Merge Control and Main Dataframes\n",
    "    merged = clean.merge(predictions_df[['Player', 'Predictions', 'Difference']], how='left', on='Player')\n",
    "    merged = merged.sort_values('Predictions', ascending = False)\n",
    "    \n",
    "    #Final Statement\n",
    "    ratio = mse/mse_control\n",
    "    percent = (1 - ratio) * 100\n",
    "    percent = round(percent, 2)\n",
    "    statement = 'The MSE of the model was ' + str(percent) + '% lower than the control model for ' + str(year)\n",
    "    string = 'mse control: ' + str(round(mse_control,0)) + 'mse: ' + str(round(mse,0))\n",
    "\n",
    "    return merged, statement, string"
   ]
  },
  {
   "cell_type": "code",
   "execution_count": 10,
   "id": "9333e953",
   "metadata": {},
   "outputs": [
    {
     "data": {
      "text/plain": [
       "'\\ntest = 0\\nfor year in range(2014,2021):\\n    print(year)\\n    print(choose_year(int(year))[1])\\n    test = test + choose_year(int(year))[1]\\n'"
      ]
     },
     "execution_count": 10,
     "metadata": {},
     "output_type": "execute_result"
    }
   ],
   "source": [
    "'''\n",
    "test = 0\n",
    "for year in range(2014,2021):\n",
    "    print(year)\n",
    "    print(choose_year(int(year))[1])\n",
    "    test = test + choose_year(int(year))[1]\n",
    "'''"
   ]
  },
  {
   "cell_type": "code",
   "execution_count": 11,
   "id": "5839a64b",
   "metadata": {},
   "outputs": [],
   "source": [
    "from nba_api.stats.static import players\n",
    "from nba_api.stats.endpoints import draftcombinestats\n",
    "from nba_api.stats.endpoints import commonplayerinfo\n",
    "def get_info(name):\n",
    "    player_dict = players.get_players()\n",
    "    for player in player_dict:\n",
    "        if player['full_name'] == name:\n",
    "            player_info = commonplayerinfo.CommonPlayerInfo(player_id=player['id'])\n",
    "            df = player_info.get_data_frames()\n",
    "            df[1]['SCHOOL'] = df[0]['SCHOOL']\n",
    "    \n",
    "    \n",
    "    return(df[1])\n",
    "    \n",
    "    "
   ]
  },
  {
   "cell_type": "code",
   "execution_count": 12,
   "id": "cd68d002",
   "metadata": {},
   "outputs": [
    {
     "data": {
      "text/html": [
       "<div>\n",
       "<style scoped>\n",
       "    .dataframe tbody tr th:only-of-type {\n",
       "        vertical-align: middle;\n",
       "    }\n",
       "\n",
       "    .dataframe tbody tr th {\n",
       "        vertical-align: top;\n",
       "    }\n",
       "\n",
       "    .dataframe thead th {\n",
       "        text-align: right;\n",
       "    }\n",
       "</style>\n",
       "<table border=\"1\" class=\"dataframe\">\n",
       "  <thead>\n",
       "    <tr style=\"text-align: right;\">\n",
       "      <th></th>\n",
       "      <th>PLAYER_ID</th>\n",
       "      <th>PLAYER_NAME</th>\n",
       "      <th>TimeFrame</th>\n",
       "      <th>PTS</th>\n",
       "      <th>AST</th>\n",
       "      <th>REB</th>\n",
       "      <th>PIE</th>\n",
       "      <th>SCHOOL</th>\n",
       "    </tr>\n",
       "  </thead>\n",
       "  <tbody>\n",
       "    <tr>\n",
       "      <th>0</th>\n",
       "      <td>203500</td>\n",
       "      <td>Steven Adams</td>\n",
       "      <td>2021-22</td>\n",
       "      <td>6.9</td>\n",
       "      <td>3.4</td>\n",
       "      <td>10.0</td>\n",
       "      <td>0.108</td>\n",
       "      <td>Pittsburgh</td>\n",
       "    </tr>\n",
       "  </tbody>\n",
       "</table>\n",
       "</div>"
      ],
      "text/plain": [
       "   PLAYER_ID   PLAYER_NAME TimeFrame  PTS  AST   REB    PIE      SCHOOL\n",
       "0     203500  Steven Adams   2021-22  6.9  3.4  10.0  0.108  Pittsburgh"
      ]
     },
     "execution_count": 12,
     "metadata": {},
     "output_type": "execute_result"
    }
   ],
   "source": [
    "a = get_info('Steven Adams')\n",
    "a"
   ]
  },
  {
   "cell_type": "code",
   "execution_count": null,
   "id": "55e91008",
   "metadata": {},
   "outputs": [],
   "source": []
  },
  {
   "cell_type": "code",
   "execution_count": 53,
   "id": "c2d1b38a",
   "metadata": {},
   "outputs": [
    {
     "name": "stdout",
     "output_type": "stream",
     "text": [
      "Enter the draft class you would like to predict: 2006\n"
     ]
    }
   ],
   "source": [
    "#Example: 2009\n",
    "year = input(\"Enter the draft class you would like to predict: \")\n"
   ]
  },
  {
   "cell_type": "code",
   "execution_count": 54,
   "id": "80b8ffd6",
   "metadata": {},
   "outputs": [],
   "source": [
    "year = int(year)\n",
    "predictors = get_predictors(year)"
   ]
  },
  {
   "cell_type": "code",
   "execution_count": 55,
   "id": "c3c3c98a",
   "metadata": {},
   "outputs": [
    {
     "data": {
      "text/plain": [
       "(               Player  Average Minutes  Control_Predictions  \\\n",
       " 19       Tyrus Thomas              993                 1560   \n",
       " 17     Cedric Simmons              240                 1299   \n",
       " 12       Paul Millsap             1906                  541   \n",
       " 10           Rudy Gay             2108                 1465   \n",
       " 6       Ronnie Brewer             1441                 1323   \n",
       " 24    Shawne Williams              769                 1252   \n",
       " 3     James Augustine               78                  683   \n",
       " 25   Shelden Williams              926                 1536   \n",
       " 1   LaMarcus Aldridge             2265                 1607   \n",
       " 8       Mardy Collins              691                  968   \n",
       " 2    Hilton Armstrong              564                 1370   \n",
       " 7       Rodney Carney              922                 1276   \n",
       " 4     Renaldo Balkman              508                 1181   \n",
       " 16   Patrick O'Bryant              132                 1441   \n",
       " 14         David Noel              792                  731   \n",
       " 13      Adam Morrison             1095                 1584   \n",
       " 20    Marcus Williams              776                 1133   \n",
       " 21    Marcus Williams              776                 1133   \n",
       " 22    Marcus Williams               20                 1133   \n",
       " 23    Marcus Williams               20                 1133   \n",
       " 5        Will Blalock              161                  233   \n",
       " 18        Craig Smith             1137                  802   \n",
       " 0        Maurice Ager              127                  991   \n",
       " 9          Randy Foye             1753                 1489   \n",
       " 15        Steve Novak              513                  897   \n",
       " 11      Solomon Jones              389                  873   \n",
       " \n",
       "     Control_Difference  Predictions  Difference  \n",
       " 19                -567         2730       -1737  \n",
       " 17               -1059         2415       -2175  \n",
       " 12                1365         2040        -134  \n",
       " 10                 643         1966         142  \n",
       " 6                  118         1939        -498  \n",
       " 24                -483         1837       -1068  \n",
       " 3                 -605         1822       -1744  \n",
       " 25                -610         1431        -505  \n",
       " 1                  658         1400         865  \n",
       " 8                 -277         1391        -700  \n",
       " 2                 -806         1375        -811  \n",
       " 7                 -354         1247        -325  \n",
       " 4                 -673         1226        -718  \n",
       " 16               -1309         1104        -972  \n",
       " 14                  61         1076        -284  \n",
       " 13                -489          898         197  \n",
       " 20                -357          852        -832  \n",
       " 21                -357          852         -76  \n",
       " 22               -1113          852        -832  \n",
       " 23               -1113          852         -76  \n",
       " 5                  -72          840        -679  \n",
       " 18                 335          815         322  \n",
       " 0                 -864          654        -527  \n",
       " 9                  264          651        1102  \n",
       " 15                -384          612         -99  \n",
       " 11                -484          440         -51  ,\n",
       " 'The MSE of the model was -69.77% lower than the control model for 2006',\n",
       " 'mse control: 461859.0mse: 784078.0')"
      ]
     },
     "execution_count": 55,
     "metadata": {},
     "output_type": "execute_result"
    }
   ],
   "source": [
    "a = Predict_Average_Minutes_Control(year)\n",
    "a"
   ]
  },
  {
   "cell_type": "code",
   "execution_count": null,
   "id": "7437b701",
   "metadata": {},
   "outputs": [],
   "source": []
  },
  {
   "cell_type": "code",
   "execution_count": null,
   "id": "04483b7f",
   "metadata": {},
   "outputs": [],
   "source": []
  }
 ],
 "metadata": {
  "kernelspec": {
   "display_name": "Python 3 (ipykernel)",
   "language": "python",
   "name": "python3"
  },
  "language_info": {
   "codemirror_mode": {
    "name": "ipython",
    "version": 3
   },
   "file_extension": ".py",
   "mimetype": "text/x-python",
   "name": "python",
   "nbconvert_exporter": "python",
   "pygments_lexer": "ipython3",
   "version": "3.9.7"
  }
 },
 "nbformat": 4,
 "nbformat_minor": 5
}
