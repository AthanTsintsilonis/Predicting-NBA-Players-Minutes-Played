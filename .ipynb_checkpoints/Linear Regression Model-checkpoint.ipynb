{
 "cells": [
  {
   "cell_type": "code",
   "execution_count": 1,
   "id": "54edfadf",
   "metadata": {},
   "outputs": [],
   "source": [
    "import pandas as pd\n",
    "from sklearn.linear_model import Ridge\n",
    "from sklearn.metrics import mean_squared_error\n",
    "\n"
   ]
  },
  {
   "cell_type": "code",
   "execution_count": 2,
   "id": "167882e6",
   "metadata": {},
   "outputs": [],
   "source": [
    "#Gets the data from the scraper and deletes the index column\n",
    "main_df = pd.read_csv('merged.csv')\n",
    "del main_df['Unnamed: 0']\n",
    "del main_df['BPM']\n",
    "main_df = main_df.fillna(0)\n",
    "raptor = pd.read_csv('modern_RAPTOR_by_player.csv')"
   ]
  },
  {
   "cell_type": "code",
   "execution_count": 3,
   "id": "87f2223c",
   "metadata": {},
   "outputs": [],
   "source": [
    "#Cleans Raptor Data\n",
    "raptor_clean = raptor[['player_name','raptor_total', 'season', 'mp']]\n",
    "\n",
    "columns_to_rename = {'player_name': 'Player','raptor_total': 'Raptor'}\n",
    "raptor_clean = raptor_clean.rename(columns = columns_to_rename)\n",
    "raptor_clean['Raptor'] = round(raptor_clean['Raptor'], 1)"
   ]
  },
  {
   "cell_type": "code",
   "execution_count": 4,
   "id": "c6ad0750",
   "metadata": {},
   "outputs": [],
   "source": [
    "#Missing data\n",
    "\n",
    "#2000-2012 (Shuttlerun)\n",
    "#2014, 16, 21, 22, 23 (Bench Press)\n",
    "\n",
    "#Get total mp\n",
    "#Remove duplicate names\n",
    "\n",
    "shuttleRun = range(2000,2013)\n",
    "benchPress = [2014,2016,2021,2022,2023]\n"
   ]
  },
  {
   "cell_type": "code",
   "execution_count": 5,
   "id": "fbb8ca59",
   "metadata": {},
   "outputs": [],
   "source": [
    "#Gets Predidctor variables\n",
    "def get_predictors(year):\n",
    "        columns_to_drop = ['Total Minutes', \n",
    "                         'Seasons Played',\n",
    "                         'Player',\n",
    "                         'POSITION',\n",
    "                         'Year',\n",
    "                         'STANDING_REACH_FT_IN',\n",
    "                         'DRAFT_NUMBER.1',\n",
    "                         'Average Minutes',\n",
    "                         'DRAFT_NUMBER']\n",
    "        \n",
    "\n",
    "        predictors = (main_df.drop(columns = columns_to_drop)).columns\n",
    "        return predictors\n",
    "        '''\n",
    "        if year in shuttleRun:\n",
    "            predictors.drop(columns = year)\n",
    "        elif year in benchPress:\n",
    "        '''    \n",
    "\n",
    "        \n",
    "    \n"
   ]
  },
  {
   "cell_type": "code",
   "execution_count": 6,
   "id": "b00dad12",
   "metadata": {},
   "outputs": [
    {
     "data": {
      "text/plain": [
       "Index(['Year', 'Player', 'POSITION', 'DRAFT_NUMBER', 'HEIGHT_WO_SHOES',\n",
       "       'WEIGHT', 'WINGSPAN', 'STANDING_REACH', 'STANDING_REACH_FT_IN',\n",
       "       'STANDING_VERTICAL_LEAP', 'MAX_VERTICAL_LEAP', 'LANE_AGILITY_TIME',\n",
       "       'THREE_QUARTER_SPRINT', 'BENCH_PRESS', 'Age (Days)', 'DRAFT_NUMBER.1',\n",
       "       'G', 'MP', 'FG%', '2P%', '3P%', 'FT%', 'PTS', 'TRB', 'AST', 'STL',\n",
       "       'BLK', 'WS', 'Total Minutes', 'Seasons Played', 'Average Minutes'],\n",
       "      dtype='object')"
      ]
     },
     "execution_count": 6,
     "metadata": {},
     "output_type": "execute_result"
    }
   ],
   "source": [
    "main_df.columns"
   ]
  },
  {
   "cell_type": "code",
   "execution_count": 7,
   "id": "05f77ba6",
   "metadata": {},
   "outputs": [],
   "source": [
    "import numpy as np\n",
    "import scipy\n",
    "import scipy.stats as stats"
   ]
  },
  {
   "cell_type": "code",
   "execution_count": 8,
   "id": "9afd2606",
   "metadata": {},
   "outputs": [],
   "source": [
    "def choose_year(year, column_to_predict):\n",
    "    \n",
    "    #Training the model \n",
    "    train = main_df[main_df[\"Year\"] < year]\n",
    "    test = main_df[main_df['Year'] == year]\n",
    "    reg = Ridge(alpha = 0.1)\n",
    "    reg.fit(train[predictors], train[column_to_predict])\n",
    "\n",
    "    #Getting predicitons in a dataframe\n",
    "    predictions = reg.predict(test[predictors])\n",
    "    predictions = pd.DataFrame(predictions, columns = ['Predictions'], index = test.index)\n",
    "    combination = pd.concat([test[['Player', column_to_predict]], predictions], axis = 1)\n",
    "    \n",
    "    #Getting Mean Square Error\n",
    "    mse = mean_squared_error(combination[column_to_predict], combination['Predictions'])\n",
    "    string = 'The mean square error for this draft is: ' + str(mse)\n",
    "    \n",
    "    #Displays rank which refers to each players draft position relative to one another in the given dataset as well as the predicted rank and difference\n",
    "    #Not used cause clutter, can maybe delete?\n",
    "    combination = combination.sort_values(column_to_predict, ascending = True)\n",
    "    combination['RK'] = list(range(1, combination.shape[0]+1))\n",
    "    combination = combination.sort_values('Predictions', ascending = True)\n",
    "    combination['Predicted_RK'] = list(range(1, combination.shape[0]+1))\n",
    "    combination['Difference'] = combination['Predicted_RK'] - combination['RK']\n",
    "\n",
    "    \n",
    "    #Gets a clutter free df 'clean' which neatly displays information\n",
    "    important_columns = ['Player',  column_to_predict,  'Predictions']\n",
    "    clean = combination.loc[:,important_columns]\n",
    "    clean['Predictions'] = round(clean['Predictions'], 0)\n",
    "    clean[column_to_predict] = round(clean[column_to_predict], 0)\n",
    "    clean['Predictions'] = clean['Predictions'].astype(int)\n",
    "    clean[column_to_predict] = clean[column_to_predict].astype(int)\n",
    "    clean['Difference'] =clean[column_to_predict] - clean['Predictions'] \n",
    "    \n",
    "    #Gets Average Minutes but not used for Average Minutes Prediciton\n",
    "    '''\n",
    "    clean = clean.merge(main_df[['Player', 'Average Minutes']], how='left', on='Player')\n",
    "    clean['Average Minutes'] = clean['Average Minutes'].astype(int)\n",
    "    '''\n",
    "    #Gets Z Score of Difference\n",
    "    clean['Adjusted Difference'] = scipy.stats.zscore(clean['Difference'], axis=0, ddof=0, nan_policy='propagate')\n",
    "    clean['Score'] = clean['Adjusted Difference']*clean['Average Minutes'] \n",
    "    score = (clean['Adjusted Difference']*clean['Average Minutes'] ).sum()\n",
    "    return clean, mse\n",
    "\n",
    "    "
   ]
  },
  {
   "cell_type": "code",
   "execution_count": 9,
   "id": "3ff41691",
   "metadata": {},
   "outputs": [],
   "source": [
    "def Predict_Average_Minutes_Control(year):\n",
    "    \n",
    "    #Gets Model Results  \n",
    "    column_to_predict = 'Average Minutes'\n",
    "    predictors = get_predictors(year)\n",
    "    full_predictions = choose_year(year, column_to_predict)\n",
    "    predictions_df = full_predictions[0]\n",
    "    mse = full_predictions[1]\n",
    "\n",
    "    #Training the model \n",
    "    control_predictor = ['DRAFT_NUMBER']\n",
    "    train = main_df[main_df[\"Year\"] < year]\n",
    "    test = main_df[main_df['Year'] == year]\n",
    "    reg = Ridge(alpha = 0.1)\n",
    "    reg.fit(train[control_predictor], train[column_to_predict])\n",
    "\n",
    "    #Getting predicitons in a dataframe\n",
    "    predictions = reg.predict(test[control_predictor])\n",
    "    predictions = pd.DataFrame(predictions, columns = ['Control_Predictions'], index = test.index)\n",
    "    combination = pd.concat([test[['Player', column_to_predict]], predictions], axis = 1)\n",
    "    \n",
    "    #Getting MSE for control\n",
    "    mse_control = mean_squared_error(combination[column_to_predict], combination['Control_Predictions'])\n",
    "    \n",
    "    #Cleans Predictions Dataframe\n",
    "    important_columns = ['Player',  column_to_predict,  'Control_Predictions']\n",
    "    clean = combination.loc[:,important_columns]\n",
    "    clean['Control_Predictions'] = round(clean['Control_Predictions'], 0)\n",
    "    clean[column_to_predict] = round(clean[column_to_predict], 0)\n",
    "    clean['Control_Predictions'] = clean['Control_Predictions'].astype(int)\n",
    "    clean[column_to_predict] = clean[column_to_predict].astype(int)\n",
    "    clean['Control_Difference'] = clean[column_to_predict] - clean['Control_Predictions'] \n",
    "    \n",
    "    #Merge Control and Main Dataframes\n",
    "    merged = clean.merge(predictions_df[['Player', 'Predictions', 'Difference']], how='left', on='Player')\n",
    "    merged = merged.sort_values('Predictions', ascending = False)\n",
    "    \n",
    "    #Final Statement\n",
    "    ratio = mse/mse_control\n",
    "    percent = (1 - ratio) * 100\n",
    "    percent = round(percent, 2)\n",
    "    statement = 'The MSE of the model was ' + str(percent) + '% lower than the control model for ' + str(year)\n",
    "    string = 'mse control: ' + str(round(mse_control,0)) + 'mse: ' + str(round(mse,0))\n",
    "\n",
    "    return merged, statement, string"
   ]
  },
  {
   "cell_type": "code",
   "execution_count": 10,
   "id": "9333e953",
   "metadata": {},
   "outputs": [
    {
     "data": {
      "text/plain": [
       "'\\ntest = 0\\nfor year in range(2014,2021):\\n    print(year)\\n    print(choose_year(int(year))[1])\\n    test = test + choose_year(int(year))[1]\\n'"
      ]
     },
     "execution_count": 10,
     "metadata": {},
     "output_type": "execute_result"
    }
   ],
   "source": [
    "'''\n",
    "test = 0\n",
    "for year in range(2014,2021):\n",
    "    print(year)\n",
    "    print(choose_year(int(year))[1])\n",
    "    test = test + choose_year(int(year))[1]\n",
    "'''"
   ]
  },
  {
   "cell_type": "code",
   "execution_count": 11,
   "id": "5839a64b",
   "metadata": {},
   "outputs": [],
   "source": [
    "from nba_api.stats.static import players\n",
    "from nba_api.stats.endpoints import draftcombinestats\n",
    "from nba_api.stats.endpoints import commonplayerinfo\n",
    "def get_info(name):\n",
    "    player_dict = players.get_players()\n",
    "    for player in player_dict:\n",
    "        if player['full_name'] == name:\n",
    "            player_info = commonplayerinfo.CommonPlayerInfo(player_id=player['id'])\n",
    "            df = player_info.get_data_frames()\n",
    "            df[1]['SCHOOL'] = df[0]['SCHOOL']\n",
    "    \n",
    "    \n",
    "    return(df[1])\n",
    "    \n",
    "    "
   ]
  },
  {
   "cell_type": "code",
   "execution_count": 12,
   "id": "cd68d002",
   "metadata": {},
   "outputs": [
    {
     "data": {
      "text/html": [
       "<div>\n",
       "<style scoped>\n",
       "    .dataframe tbody tr th:only-of-type {\n",
       "        vertical-align: middle;\n",
       "    }\n",
       "\n",
       "    .dataframe tbody tr th {\n",
       "        vertical-align: top;\n",
       "    }\n",
       "\n",
       "    .dataframe thead th {\n",
       "        text-align: right;\n",
       "    }\n",
       "</style>\n",
       "<table border=\"1\" class=\"dataframe\">\n",
       "  <thead>\n",
       "    <tr style=\"text-align: right;\">\n",
       "      <th></th>\n",
       "      <th>PLAYER_ID</th>\n",
       "      <th>PLAYER_NAME</th>\n",
       "      <th>TimeFrame</th>\n",
       "      <th>PTS</th>\n",
       "      <th>AST</th>\n",
       "      <th>REB</th>\n",
       "      <th>PIE</th>\n",
       "      <th>SCHOOL</th>\n",
       "    </tr>\n",
       "  </thead>\n",
       "  <tbody>\n",
       "    <tr>\n",
       "      <th>0</th>\n",
       "      <td>203500</td>\n",
       "      <td>Steven Adams</td>\n",
       "      <td>2021-22</td>\n",
       "      <td>6.9</td>\n",
       "      <td>3.4</td>\n",
       "      <td>10.0</td>\n",
       "      <td>0.108</td>\n",
       "      <td>Pittsburgh</td>\n",
       "    </tr>\n",
       "  </tbody>\n",
       "</table>\n",
       "</div>"
      ],
      "text/plain": [
       "   PLAYER_ID   PLAYER_NAME TimeFrame  PTS  AST   REB    PIE      SCHOOL\n",
       "0     203500  Steven Adams   2021-22  6.9  3.4  10.0  0.108  Pittsburgh"
      ]
     },
     "execution_count": 12,
     "metadata": {},
     "output_type": "execute_result"
    }
   ],
   "source": [
    "a = get_info('Steven Adams')\n",
    "a"
   ]
  },
  {
   "cell_type": "code",
   "execution_count": null,
   "id": "55e91008",
   "metadata": {},
   "outputs": [],
   "source": []
  },
  {
   "cell_type": "code",
   "execution_count": 13,
   "id": "c2d1b38a",
   "metadata": {},
   "outputs": [
    {
     "name": "stdout",
     "output_type": "stream",
     "text": [
      "Enter the draft class you would like to predict: 2011\n"
     ]
    }
   ],
   "source": [
    "#Years that don't work: 2014,\n",
    "year = input(\"Enter the draft class you would like to predict: \")\n"
   ]
  },
  {
   "cell_type": "code",
   "execution_count": 14,
   "id": "80b8ffd6",
   "metadata": {},
   "outputs": [],
   "source": [
    "year = int(year)\n",
    "predictors = get_predictors(year)"
   ]
  },
  {
   "cell_type": "code",
   "execution_count": 15,
   "id": "c3c3c98a",
   "metadata": {},
   "outputs": [
    {
     "data": {
      "text/plain": [
       "(              Player  Average Minutes  Control_Predictions  \\\n",
       " 33      Kemba Walker             2243                 1374   \n",
       " 24     Iman Shumpert             1147                 1191   \n",
       " 17     Kawhi Leonard             1804                 1237   \n",
       " 1         Alec Burks             1308                 1306   \n",
       " 30  Tristan Thompson             1777                 1489   \n",
       " 32  Tristan Thompson             1777                 1489   \n",
       " 13   Charles Jenkins              666                  573   \n",
       " 3        Norris Cole             1336                  939   \n",
       " 14    JaJuan Johnson              299                  962   \n",
       " 2       Jimmy Butler             2078                  894   \n",
       " 18     Travis Leslie               46                  504   \n",
       " 11     Tobias Harris             2148                 1145   \n",
       " 9    Jordan Hamilton              420                  985   \n",
       " 7    Jordan Hamilton              420                  985   \n",
       " 21     Darius Morris              365                  642   \n",
       " 27       Nolan Smith              414                 1100   \n",
       " 20      Shelvin Mack             1049                  802   \n",
       " 10     Justin Harper               49                  848   \n",
       " 4     Kenneth Faried             1467                 1077   \n",
       " 5   Andrew Goudelock              159                  527   \n",
       " 19         Jon Leuer              745                  665   \n",
       " 16    Brandon Knight             1468                 1397   \n",
       " 31  Tristan Thompson             1777                 1489   \n",
       " 29  Tristan Thompson             1777                 1489   \n",
       " 26   Chris Singleton              869                 1168   \n",
       " 15       Cory Joseph             1470                  917   \n",
       " 25      Kyle Singler             1300                  825   \n",
       " 28    Trey Thompkins              120                  733   \n",
       " 0       Keith Benson                9                  482   \n",
       " 35  Derrick Williams             1266                 1535   \n",
       " 22  Chandler Parsons             1472                  710   \n",
       " 12     Scotty Hopson               11                 1580   \n",
       " 34   Jordan Williams              637                  756   \n",
       " 23        Josh Selby              147                  459   \n",
       " 8    Jordan Hamilton              420                  985   \n",
       " 6    Jordan Hamilton              420                  985   \n",
       " \n",
       "     Control_Difference  Predictions  Difference  \n",
       " 33                 869         1845         398  \n",
       " 24                 -44         1770        -623  \n",
       " 17                 567         1555         249  \n",
       " 1                    2         1517        -209  \n",
       " 30                 288         1372         405  \n",
       " 32                 288         1372         405  \n",
       " 13                  93         1349        -683  \n",
       " 3                  397         1327           9  \n",
       " 14                -663         1290        -991  \n",
       " 2                 1184         1269         809  \n",
       " 18                -458         1220       -1174  \n",
       " 11                1003         1204         944  \n",
       " 9                 -565         1169        -749  \n",
       " 7                 -565         1169        -749  \n",
       " 21                -277         1166        -801  \n",
       " 27                -686         1155        -741  \n",
       " 20                 247         1052          -3  \n",
       " 10                -799         1045        -996  \n",
       " 4                  390         1022         445  \n",
       " 5                 -368         1016        -857  \n",
       " 19                  80          992        -247  \n",
       " 16                  71          970         498  \n",
       " 31                 288          909         868  \n",
       " 29                 288          909         868  \n",
       " 26                -299          831          38  \n",
       " 15                 553          761         709  \n",
       " 25                 475          760         540  \n",
       " 28                -613          687        -567  \n",
       " 0                 -473          646        -637  \n",
       " 35                -269          622         644  \n",
       " 22                 762          574         898  \n",
       " 12               -1569          541        -530  \n",
       " 34                -119          502         135  \n",
       " 23                -312          501        -354  \n",
       " 8                 -565           -2         422  \n",
       " 6                 -565           -2         422  ,\n",
       " 'The MSE of the model was -19.58% lower than the control model for 2011',\n",
       " 'mse control: 346846.0mse: 414767.0')"
      ]
     },
     "execution_count": 15,
     "metadata": {},
     "output_type": "execute_result"
    }
   ],
   "source": [
    "a = Predict_Average_Minutes_Control(year)\n",
    "a"
   ]
  },
  {
   "cell_type": "code",
   "execution_count": null,
   "id": "7437b701",
   "metadata": {},
   "outputs": [],
   "source": []
  }
 ],
 "metadata": {
  "kernelspec": {
   "display_name": "Python 3 (ipykernel)",
   "language": "python",
   "name": "python3"
  },
  "language_info": {
   "codemirror_mode": {
    "name": "ipython",
    "version": 3
   },
   "file_extension": ".py",
   "mimetype": "text/x-python",
   "name": "python",
   "nbconvert_exporter": "python",
   "pygments_lexer": "ipython3",
   "version": "3.9.7"
  }
 },
 "nbformat": 4,
 "nbformat_minor": 5
}
